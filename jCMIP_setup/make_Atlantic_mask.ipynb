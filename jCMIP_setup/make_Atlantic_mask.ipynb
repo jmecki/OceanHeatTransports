{
 "cells": [
  {
   "cell_type": "code",
   "execution_count": 1,
   "id": "df2db431-b768-4560-a289-d8ac16c6d5eb",
   "metadata": {},
   "outputs": [],
   "source": [
    "# Computes Atlantic basin - not yet converted to working code!!!!\n",
    "%load_ext autoreload\n",
    "%autoreload 2\n",
    "\n",
    "import jCMIP as jc\n",
    "import matplotlib.pyplot as plt\n",
    "import copy\n",
    "from netCDF4 import Dataset\n",
    "import numpy as np\n",
    "import sys\n",
    "import shutil\n",
    "\n",
    "#print(sys.getrecursionlimit())\n",
    "#sys.setrecursionlimit(16000)\n",
    "#sys.setrecursionlimit(20000)"
   ]
  },
  {
   "cell_type": "code",
   "execution_count": 2,
   "id": "fe6da54e-6876-466b-bba3-51f224a4d986",
   "metadata": {
    "tags": []
   },
   "outputs": [],
   "source": [
    "# Finds all points in a closed region (non-recursive):\n",
    "def make_mask(A,sty,stx):\n",
    "    ni = np.size(A,axis=1)\n",
    "    nj = np.size(A,axis=0)\n",
    "    #print(ni*nj)\n",
    "    \n",
    "    if A[sty,stx] == 0:\n",
    "        print('invalid starting point')\n",
    "    else:\n",
    "        plist = np.asarray([[sty,stx],])\n",
    "        \n",
    "        cc = 0\n",
    "        \n",
    "        while ((np.size(plist) !=0)):\n",
    "            cc = cc + 1\n",
    "            #print(np.shape(plist))\n",
    "\n",
    "            sty = plist[0,0]\n",
    "            stx = plist[0,1]\n",
    "            \n",
    "            if A[sty,stx] == 1:\n",
    "                # Find all the connected points:\n",
    "                \n",
    "                # left\n",
    "                ptx = stx - 1\n",
    "                pty = sty\n",
    "                if ptx == -1:\n",
    "                    ptx = ni-1\n",
    "                if A[pty,ptx] == 1:\n",
    "                    plist = np.concatenate((plist,[[pty,ptx],]),0)\n",
    "                \n",
    "                # up\n",
    "                ptx = stx\n",
    "                pty = sty + 1\n",
    "                if pty < nj:   \n",
    "                    if A[pty,ptx] == 1:\n",
    "                        plist = np.concatenate((plist,[[pty,ptx],]),0)\n",
    "\n",
    "                # right \n",
    "                ptx = stx + 1\n",
    "                pty = sty\n",
    "                if ptx == ni:\n",
    "                    ptx = 0\n",
    "                if A[pty,ptx] == 1:  \n",
    "                    plist = np.concatenate((plist,[[pty,ptx],]),0)\n",
    "\n",
    "                # down\n",
    "                ptx = stx\n",
    "                pty = sty - 1\n",
    "                if pty >= 0:\n",
    "                    if A[pty,ptx] == 1:\n",
    "                        plist = np.concatenate((plist,[[pty,ptx],]),0)\n",
    "                \n",
    "            A[sty,stx] = 2\n",
    "            plist = np.delete(plist,0,0)\n",
    "            \n",
    "    print(cc)"
   ]
  },
  {
   "cell_type": "code",
   "execution_count": 18,
   "id": "70cf4506-dd2c-40e9-8a2f-308208d735e0",
   "metadata": {
    "tags": []
   },
   "outputs": [
    {
     "name": "stdout",
     "output_type": "stream",
     "text": [
      "inmcm4\n",
      "unknown\n",
      "21/10/14 - ocean not on z-levels\n"
     ]
    }
   ],
   "source": [
    "cmip   = '5'\n",
    "#cmip   = '6'\n",
    "Clist = jc.readList(('../CMIP' + cmip + 'list'))\n",
    "Models = list(Clist.keys())\n",
    "\n",
    "Model = Clist[Models[59]]\n",
    "#Model = Clist['ACCESS-CM2']\n",
    "print(Model.name)\n",
    "print(Model.Omeshmask)\n",
    "for nn in Model.notes:\n",
    "    print(nn)"
   ]
  },
  {
   "cell_type": "code",
   "execution_count": 19,
   "id": "0712d01f-feaa-40aa-83c4-6f3259a36d25",
   "metadata": {
    "tags": []
   },
   "outputs": [
    {
     "ename": "FileNotFoundError",
     "evalue": "[Errno 2] No such file or directory: b'unknown'",
     "output_type": "error",
     "traceback": [
      "\u001b[0;31m---------------------------------------------------------------------------\u001b[0m",
      "\u001b[0;31mFileNotFoundError\u001b[0m                         Traceback (most recent call last)",
      "\u001b[0;32m/tmp/ipykernel_3768/567386108.py\u001b[0m in \u001b[0;36m<module>\u001b[0;34m\u001b[0m\n\u001b[1;32m      5\u001b[0m \u001b[0;31m#outfile = ('/home/users/jmecking001/masks_tmp/CMIP' + str(cmip) + '/' + Model.name + '_basin_atl.nc')\u001b[0m\u001b[0;34m\u001b[0m\u001b[0;34m\u001b[0m\u001b[0;34m\u001b[0m\u001b[0m\n\u001b[1;32m      6\u001b[0m \u001b[0;34m\u001b[0m\u001b[0m\n\u001b[0;32m----> 7\u001b[0;31m \u001b[0mncid\u001b[0m  \u001b[0;34m=\u001b[0m \u001b[0mDataset\u001b[0m\u001b[0;34m(\u001b[0m\u001b[0minfile\u001b[0m\u001b[0;34m,\u001b[0m\u001b[0;34m'r'\u001b[0m\u001b[0;34m)\u001b[0m\u001b[0;34m\u001b[0m\u001b[0;34m\u001b[0m\u001b[0m\n\u001b[0m\u001b[1;32m      8\u001b[0m \u001b[0mtmask\u001b[0m \u001b[0;34m=\u001b[0m \u001b[0mncid\u001b[0m\u001b[0;34m.\u001b[0m\u001b[0mvariables\u001b[0m\u001b[0;34m[\u001b[0m\u001b[0;34m'tmask'\u001b[0m\u001b[0;34m]\u001b[0m\u001b[0;34m[\u001b[0m\u001b[0;36m0\u001b[0m\u001b[0;34m,\u001b[0m\u001b[0;36m0\u001b[0m\u001b[0;34m,\u001b[0m\u001b[0;34m:\u001b[0m\u001b[0;34m,\u001b[0m\u001b[0;34m:\u001b[0m\u001b[0;34m]\u001b[0m\u001b[0;34m\u001b[0m\u001b[0;34m\u001b[0m\u001b[0m\n\u001b[1;32m      9\u001b[0m \u001b[0mlon\u001b[0m   \u001b[0;34m=\u001b[0m \u001b[0mncid\u001b[0m\u001b[0;34m.\u001b[0m\u001b[0mvariables\u001b[0m\u001b[0;34m[\u001b[0m\u001b[0;34m'tlon'\u001b[0m\u001b[0;34m]\u001b[0m\u001b[0;34m[\u001b[0m\u001b[0;34m:\u001b[0m\u001b[0;34m,\u001b[0m\u001b[0;34m:\u001b[0m\u001b[0;34m]\u001b[0m\u001b[0;34m\u001b[0m\u001b[0;34m\u001b[0m\u001b[0m\n",
      "\u001b[0;32msrc/netCDF4/_netCDF4.pyx\u001b[0m in \u001b[0;36mnetCDF4._netCDF4.Dataset.__init__\u001b[0;34m()\u001b[0m\n",
      "\u001b[0;32msrc/netCDF4/_netCDF4.pyx\u001b[0m in \u001b[0;36mnetCDF4._netCDF4._ensure_nc_success\u001b[0;34m()\u001b[0m\n",
      "\u001b[0;31mFileNotFoundError\u001b[0m: [Errno 2] No such file or directory: b'unknown'"
     ]
    }
   ],
   "source": [
    "# Make basin masks:\n",
    "\n",
    "infile  = Model.Omeshmask\n",
    "outfile = ('/gws/pw/j05/wishbone/jmecki/CMIP' + str(cmip) + '/basins/' + Model.name + '_basin_atl.nc')\n",
    "#outfile = ('/home/users/jmecking001/masks_tmp/CMIP' + str(cmip) + '/' + Model.name + '_basin_atl.nc')\n",
    "\n",
    "ncid  = Dataset(infile,'r')\n",
    "tmask = ncid.variables['tmask'][0,0,:,:]\n",
    "lon   = ncid.variables['tlon'][:,:]\n",
    "lat   = ncid.variables['tlat'][:,:]\n",
    "ncid.close()\n",
    "\n",
    "lon[np.where(lon > 180)]  = lon[np.where(lon > 180)]  - 360\n",
    "lon[np.where(lon < -180)] = lon[np.where(lon < -180)] + 360\n",
    "\n",
    "atl_mask = copy.deepcopy(tmask)\n",
    "# Southern Ocean:\n",
    "atl_mask[np.where((lat < -30) & ((lon > 20) | (lon < -71)))] = 0\n",
    "# Arctic:\n",
    "atl_mask[np.where((lat > 67) & ((lon > 105) | (lon < -90)))] = 0\n",
    "# Remove Black Sea:\n",
    "atl_mask[np.where(((lat > 41) & (lat < 45)) & ((lon > 22) & (lon < 45)))] = 0\n",
    "\n",
    "plt.figure(figsize=(15,12))\n",
    "plt.pcolormesh(tmask+atl_mask)\n",
    "plt.colorbar()\n",
    "\n",
    "print(Model.name)"
   ]
  },
  {
   "cell_type": "code",
   "execution_count": 12,
   "id": "25609359-4d9f-4546-b81a-0e937604dd7f",
   "metadata": {},
   "outputs": [
    {
     "data": {
      "text/plain": [
       "<matplotlib.colorbar.Colorbar at 0x7f0317dc9650>"
      ]
     },
     "execution_count": 12,
     "metadata": {},
     "output_type": "execute_result"
    },
    {
     "data": {
      "image/png": "[encoded data removed]",
      "text/plain": [
       "<Figure size 1080x864 with 2 Axes>"
      ]
     },
     "metadata": {
      "needs_background": "light"
     },
     "output_type": "display_data"
    }
   ],
   "source": [
    "### Fix Arctic if split:\n",
    "\n",
    "if ((Model.name == 'ACCESS-CM2')        | (Model.name == 'ACCESS-ESM1-5') | (Model.name == 'ACCESS-OM2')    |\n",
    "    (Model.name == 'CMCC-CM2-SR5')      | (Model.name == 'CMCC-ESM2')     | (Model.name == 'CNRM-CM6-1')    | \n",
    "    (Model.name == 'CNRM-ESM2-1')       | (Model.name == 'CanESM5')       | (Model.name == 'EC-Earth3')     | \n",
    "    (Model.name == 'EC-Earth3-AerChem') | (Model.name == 'EC-Earth3-CC')  | (Model.name == 'EC-Earth3-Veg') | \n",
    "    (Model.name == 'EC-Earth3-Veg-LR')  | (Model.name == 'EC-Earth3P')    | (Model.name == 'ECMWF-IFS-LR')  | \n",
    "    (Model.name == 'HadGEM3-GC31-LL')   | (Model.name == 'IPSL-CM6A-LR')  | (Model.name == 'IPSL-CM6A-LR-INCA') |\n",
    "    (Model.name == 'NESM3')             | (Model.name == 'UKESM1-0-LL')   |\n",
    "    (Model.name == 'ACCESS1-0')         | (Model.name == 'ACCESS1-3')     | (Model.name == 'CNRM-CM5')      | \n",
    "    (Model.name == 'CNRM-CM5-2')        | (Model.name == 'EC-EARTH')):\n",
    "    atl_mask[260:,200:300] = tmask[260:,200:300]\n",
    "elif ((Model.name == 'ACCESS-OM2-025') | (Model.name == 'CMCC-CM2-HR4')    | (Model.name == 'CMCC-CM2-VHR4') |\n",
    "      (Model.name == 'CNRM-CM6-1-HR')  | (Model.name == 'EC-Earth3P-HR')   | (Model.name == 'ECMWF-IFS-HR')  | \n",
    "      (Model.name == 'ECMWF-IFS-MR')   | (Model.name == 'HadGEM3-GC31-HM') | (Model.name == 'HadGEM3-GC31-MM')):\n",
    "    atl_mask[900:,750:1200] = tmask[900:,750:1200]\n",
    "elif ((Model.name == 'BCC-CSM2-HR')):\n",
    "    atl_mask[600:,1050:] = tmask[600:,1050:]\n",
    "elif ((Model.name == 'BCC-CSM2-MR') | (Model.name == 'BCC-ESM1')):\n",
    "    atl_mask[200:,265:] = tmask[200:,265:]\n",
    "elif ((Model.name == 'CAMS-CSM1-0') | (Model.name == 'GFDL-ESM2M') | (Model.name == 'IITM-ESM') | \n",
    "      (Model.name == 'GFDL-ESM2G')):\n",
    "    atl_mask[175:,180:] = tmask[175:,180:]\n",
    "elif ((Model.name == 'FGOALS-f3-L') | (Model.name == 'FGOALS-g3')):\n",
    "    atl_mask[200:,:150] = tmask[200:,:150]\n",
    "elif ((Model.name == 'GFDL-CM4')):\n",
    "    atl_mask[750:,750:] = tmask[750:,750:]\n",
    "elif ((Model.name == 'HadGEM3-GC31-HH') | (Model.name == 'HadGEM3-GC31-MH')):\n",
    "    atl_mask[3150:,2200:] = tmask[3150:,2200:]\n",
    "elif ((Model.name == 'IPSL-CM5A2-INCA')):\n",
    "    atl_mask[135:,100:] = tmask[135:,100:]\n",
    "elif ((Model.name == 'MIROC-ES2L') | (Model.name == 'MIROC6')):\n",
    "    atl_mask[200:,190:] = tmask[200:,190:]\n",
    "elif ((Model.name == 'MPI-ESM1-2-HR') | (Model.name == 'MPI-ESM1-2-XR') | (Model.name == 'MPI-ESM-MR')):\n",
    "    atl_mask[380:,450:] = tmask[380:,450:]\n",
    "elif ((Model.name == 'MRI-ESM2-0')):\n",
    "    atl_mask[175:,180:] = tmask[175:,180:]\n",
    "    atl_mask[197,195:210] = 0\n",
    "    atl_mask[198:203,196] = 0\n",
    "elif ((Model.name == 'NorESM2-LM') | (Model.name == 'NorESM2-MM')):\n",
    "    atl_mask[335:,:125] = tmask[335:,:125]\n",
    "elif ((Model.name == 'CFSv2-2011')):\n",
    "    # Arctic:\n",
    "    atl_mask[np.where((lat > 65) & ((lon > 105) | (lon < -90)))] = 0\n",
    "    # Remove Black Sea:\n",
    "    atl_mask[np.where(((lat > 40) & (lat < 47)) & ((lon > 26) & (lon < 45)))] = 0\n",
    "elif ((Model.name == 'CMCC-CESM')    | (Model.name == 'CMCC-CM')      | (Model.name == 'CMCC-CMS') | \n",
    "      (Model.name == 'IPSL-CM5A-LR') | (Model.name == 'IPSL-CM5A-MR') | (Model.name == 'IPSL-CM5B-LR')):\n",
    "    atl_mask[140:,100:] = tmask[140:,100:]\n",
    "elif ((Model.name == 'GEOS-5')):\n",
    "    # Arctic:\n",
    "    atl_mask[np.where((lat > 65) & ((lon > 105) | (lon < -90)))] = 0\n",
    "    # Remove Black Sea:\n",
    "    atl_mask[np.where(((lat > 40) & (lat < 47)) & ((lon > 26) & (lon < 45)))] = 0\n",
    "    atl_mask[99,270:298] = 0\n",
    "elif ((Model.name == 'GFDL-CM2p1') | (Model.name == 'GFDL-CM3')):\n",
    "    atl_mask[175:,180:] = tmask[175:,180:]\n",
    "elif ((Model.name == 'GISS-E2-H') | (Model.name == 'GISS-E2-H-CC')):\n",
    "    atl_mask[99,270:290] = 0\n",
    "elif ((Model.name == 'MRI-CGCM3') | (Model.name == 'MRI-ESM1')):\n",
    "    atl_mask[175:,180:] = tmask[175:,180:]\n",
    "    atl_mask[175,185:210] = 0\n",
    "    atl_mask[176:183,195] = 0\n",
    "elif ((Model.name == 'bcc-csm1-1') | (Model.name == 'bcc-csm1-1-m')):\n",
    "    atl_mask[175:,180:] = tmask[175:,180:]\n",
    "    \n",
    "    \n",
    "\n",
    "plt.figure(figsize=(15,12))\n",
    "plt.pcolormesh(tmask+atl_mask)\n",
    "plt.colorbar()"
   ]
  },
  {
   "cell_type": "code",
   "execution_count": 13,
   "id": "a4d6525f-6a4c-4d84-b22d-3a8a1cb0da97",
   "metadata": {
    "tags": []
   },
   "outputs": [
    {
     "name": "stdout",
     "output_type": "stream",
     "text": [
      "16667\n",
      "13506\n"
     ]
    }
   ],
   "source": [
    "###### North Half:\n",
    "atl_maskN = copy.deepcopy(atl_mask)\n",
    "atl_maskN[np.where(lat <= 0)] = 0 \n",
    "# Find point in middle of Atlantic:\n",
    "#inds = np.unravel_index(np.argmin(np.abs(lat-50)*np.abs(lon+40)),np.shape(lon))\n",
    "inds = np.unravel_index(np.argmin(np.abs(lat-50)+np.abs(lon+40)),np.shape(lon))\n",
    "styN = inds[0]\n",
    "stxN = inds[1]\n",
    "\n",
    "make_mask(atl_maskN,styN,stxN)\n",
    "atl_maskN[np.where(atl_maskN != 2)] = 0\n",
    "atl_maskN = atl_maskN/2\n",
    "\n",
    "# South Half:\n",
    "atl_maskS = copy.deepcopy(atl_mask)\n",
    "atl_maskS[np.where(lat > 0)] = 0 \n",
    "# Find point in middle of Atlantic:\n",
    "#inds = np.unravel_index(np.argmin(np.abs(lat+20)*np.abs(lon+20)),np.shape(lon))\n",
    "inds = np.unravel_index(np.argmin(np.abs(lat+20)+np.abs(lon+20)),np.shape(lon))\n",
    "styS = inds[0]\n",
    "stxS = inds[1]\n",
    "\n",
    "make_mask(atl_maskS,styS,stxS)\n",
    "atl_maskS[np.where(atl_maskS != 2)] = 0\n",
    "atl_maskS = atl_maskS/2\n",
    "\n",
    "atl_mask = atl_maskN + atl_maskS"
   ]
  },
  {
   "cell_type": "code",
   "execution_count": 14,
   "id": "13124538-8f3e-4ac2-8207-07a3cc220a6f",
   "metadata": {},
   "outputs": [
    {
     "name": "stdout",
     "output_type": "stream",
     "text": [
      "bcc-csm1-1-m\n"
     ]
    },
    {
     "data": {
      "image/png": "[encoded data removed]",
      "text/plain": [
       "<Figure size 1080x864 with 2 Axes>"
      ]
     },
     "metadata": {
      "needs_background": "light"
     },
     "output_type": "display_data"
    }
   ],
   "source": [
    "plt.figure(figsize=(15,12))\n",
    "plt.pcolormesh(tmask+atl_mask)\n",
    "plt.colorbar()\n",
    "plt.plot(stxN,styN,marker='o')\n",
    "plt.plot(stxS,styS,marker='o')\n",
    "\n",
    "print(Model.name)"
   ]
  },
  {
   "cell_type": "code",
   "execution_count": 15,
   "id": "6c030ffb-e7e1-42b4-911b-6527f092cf6f",
   "metadata": {},
   "outputs": [
    {
     "data": {
      "text/plain": [
       "<matplotlib.colorbar.Colorbar at 0x7f031811fbd0>"
      ]
     },
     "execution_count": 15,
     "metadata": {},
     "output_type": "execute_result"
    },
    {
     "data": {
      "image/png": "[encoded data removed]",
      "text/plain": [
       "<Figure size 1080x864 with 2 Axes>"
      ]
     },
     "metadata": {
      "needs_background": "light"
     },
     "output_type": "display_data"
    }
   ],
   "source": [
    "# Tidy:\n",
    "\n",
    "if ((Model.name == 'ACCESS-CM2') | (Model.name == 'ACCESS-ESM1-5') | (Model.name == 'ACCESS-OM2') | \n",
    "    (Model.name == 'ACCESS1-0')  | (Model.name == 'ACCESS1-3')):\n",
    "    atl_mask[260:,200:300] = tmask[260:,200:300]\n",
    "elif ((Model.name == 'BCC-CSM2-MR') | (Model.name == 'BCC-ESM1')):\n",
    "    atl_mask[225:,265:300] = tmask[225:,265:300]\n",
    "elif ((Model.name == 'CAMS-CSM1-0')):\n",
    "    atl_mask[150:,175:300] = tmask[150:,175:300]\n",
    "elif ((Model.name == 'CESM1-CAM5-SE-LR') | (Model.name == 'CESM2')          | (Model.name == 'CESM2-FV2')  |\n",
    "      (Model.name == 'CESM2-WACCM')      | (Model.name == 'CESM2-WACCM-FV2')| (Model.name == 'CIESM')      |\n",
    "      (Model.name == 'FIO-ESM-2-0')      | (Model.name == 'SAM0-UNICON')    | (Model.name == 'TaiESM1')    |\n",
    "      (Model.name == 'CCSM4')            | (Model.name == 'CESM1-BGC')      | (Model.name == 'CESM1-CAM5') | \n",
    "      (Model.name == 'CESM1-CAM5-1-FV2') | (Model.name == 'CESM1-FASTCHEM') | (Model.name == 'CESM1-WACCM')):\n",
    "    # Include Baltic Sea\n",
    "    atl_mask[312:,:100] = tmask[312:,:100]\n",
    "elif ((Model.name == 'CMCC-CM2-HR4')    | (Model.name == 'CMCC-CM2-VHR4') | (Model.name == 'CNRM-CM6-1-HR') | \n",
    "      (Model.name == 'EC-Earth3P-HR')   | (Model.name == 'ECMWF-IFS-HR')  | (Model.name == 'ECMWF-IFS-MR')  | \n",
    "      (Model.name == 'HadGEM3-GC31-HM') | (Model.name == 'HadGEM3-GC31-MM')):\n",
    "    atl_mask[1000:,750:1300] = tmask[1000:,750:1300]\n",
    "elif ((Model.name == 'FGOALS-f3-L') | (Model.name == 'FGOALS-g3')):\n",
    "    atl_mask[200:,:150] = tmask[200:,:150]\n",
    "elif ((Model.name == 'GFDL-ESM2M') | (Model.name == 'IITM-ESM')):\n",
    "    atl_mask[160:,175:] = tmask[160:,175:]\n",
    "    atl_mask[130:160,250:308] = tmask[130:160,250:308]\n",
    "    atl_mask[140:150,250:325] = tmask[140:150,250:325]\n",
    "elif ((Model.name == 'GISS-E2-1-G') | (Model.name == 'GISS-E2-1-G-CC')):\n",
    "    atl_mask[125:135,-4:] = tmask[125:135,-4:]\n",
    "    atl_mask[120:140,:22] = tmask[120:140,:22]\n",
    "    atl_mask[120:130,:30] = tmask[120:130,:30]\n",
    "elif ((Model.name == 'HadGEM3-GC31-HH') | (Model.name == 'HadGEM3-GC31-MH')):\n",
    "    atl_mask[3250:,3250:] = tmask[3250:,3250:]\n",
    "elif ((Model.name == 'INM-CM4-8') | (Model.name == 'INM-CM5-0') | (Model.name == 'INM-CM5-H')):\n",
    "    atl_mask[140:,:75] = tmask[140:,:75]\n",
    "    atl_mask[125:135,-4:] = tmask[125:135,-4:]\n",
    "    atl_mask[120:140,:22] = tmask[120:140,:22]\n",
    "    atl_mask[120:131,:36] = tmask[120:131,:36]\n",
    "    atl_mask[140:,280:] = tmask[140:,280:]\n",
    "elif ((Model.name == 'MCM-UA-1-0')):\n",
    "    atl_mask[54:60,:16] = tmask[54:60,:16]\n",
    "    atl_mask[54:56,:20] = tmask[54:56,:20]\n",
    "elif ((Model.name == 'MIROC-ES2L') | (Model.name == 'MIROC6')):\n",
    "    atl_mask[200:,190:] = tmask[200:,190:]\n",
    "elif ((Model.name == 'BNU-ESM')):\n",
    "    atl_mask[135:,260:] = tmask[135:,260:]\n",
    "    atl_mask[135:,:27] = tmask[135:,:27]\n",
    "    atl_mask[135:147,:37] = tmask[135:147,:37]\n",
    "elif ((Model.name == 'CanCM4') | (Model.name == 'CanESM2')):\n",
    "    atl_mask[125:150,:30] = tmask[125:150,:30]\n",
    "    atl_mask[120:172,188:] = tmask[120:172,188:]\n",
    "elif ((Model.name == 'FGOALS-g2')):\n",
    "    atl_mask[130:150,:40] = tmask[130:150,:40]\n",
    "elif ((Model.name == 'FIO-ESM')):\n",
    "    atl_mask[320:,:80] = tmask[320:,:80]\n",
    "elif ((Model.name == 'GFDL-CM2p1') | (Model.name == 'GFDL-CM3')):\n",
    "    atl_mask[140:,170:306] = tmask[140:,170:306]\n",
    "    atl_mask[140:150,280:320] = tmask[140:150,280:320]\n",
    "elif ((Model.name == 'GISS-E2-H-CC')):\n",
    "    atl_mask[119:,:45] = tmask[119:,:45]\n",
    "    atl_mask[119:,340:] = tmask[119:,340:]\n",
    "elif ((Model.name == 'GISS-E2-R') | (Model.name == 'GISS-E2-R-CC')):\n",
    "    atl_mask[119:,:21] = tmask[119:,:21]\n",
    "    atl_mask[119:128,:30] = tmask[119:128,:30]\n",
    "    atl_mask[119:,270:] = tmask[119:,270:]\n",
    "elif ((Model.name == 'HadCM3')):\n",
    "    atl_mask[90:,:20] = tmask[90:,:20]\n",
    "    atl_mask[90:103,:29] = tmask[90:103,:29]\n",
    "    atl_mask[90:,260:] = tmask[90:,260:]\n",
    "    atl_mask[112:125,210:] = tmask[112:125,210:]\n",
    "    atl_mask[112:130,220:] = tmask[112:130,220:]\n",
    "elif ((Model.name == 'HadGEM2-AO') | (Model.name == 'HadGEM2-CC') | (Model.name == 'HadGEM2-ES')):\n",
    "    atl_mask[150:,:28] = tmask[150:,:28]\n",
    "    atl_mask[150:165,:37] = tmask[150:165,:37]\n",
    "elif ((Model.name == 'MIROC-ESM') | (Model.name == 'MIROC-ESM-CHEM')):\n",
    "    atl_mask[119:,:21] = tmask[119:,:21]\n",
    "    atl_mask[133:145,:28] = tmask[133:145,:28]\n",
    "    atl_mask[:,250:] = tmask[:,250:]\n",
    "    atl_mask[150:178,189:] = tmask[150:178,189:]\n",
    "elif ((Model.name == 'MIROC5')):\n",
    "    atl_mask[140:170,150:180] = tmask[140:170,150:180]\n",
    "    atl_mask[140:152,150:200] = tmask[140:152,150:200]\n",
    "elif ((Model.name == 'MRI-CGCM3') | (Model.name == 'MRI-ESM1')):\n",
    "    atl_mask[175:,180:] = tmask[175:,180:]\n",
    "elif ((Model.name == 'bcc-csm1-1')):\n",
    "    atl_mask[190:,180:] = tmask[190:,180:]\n",
    "    atl_mask[170:,190:307] = tmask[170:,190:307]\n",
    "    atl_mask[170:180,190:320] = tmask[170:180,190:320]\n",
    "    \n",
    "plt.figure(figsize=(15,12))\n",
    "plt.pcolormesh(tmask+atl_mask)\n",
    "plt.colorbar()"
   ]
  },
  {
   "cell_type": "code",
   "execution_count": 16,
   "id": "5a399160-cd85-4c59-be27-5a9b42caca18",
   "metadata": {},
   "outputs": [],
   "source": [
    "# Save to File:\n",
    "\n",
    "ncid = Dataset(infile,'r')\n",
    "dims = ncid.variables['tmask'].get_dims()\n",
    "ncid.close\n",
    "\n",
    "ncid = Dataset(outfile, 'w', format='NETCDF4')\n",
    "# dimensions:\n",
    "ncid.createDimension(dims[3].name,dims[3].size)\n",
    "ncid.createDimension(dims[2].name,dims[2].size)\n",
    "ncid.createDimension(dims[1].name,1)\n",
    "ncid.createDimension(dims[0].name,None)\n",
    "# variables:\n",
    "ncid.createVariable('atl_mask','f8',(dims[0].name,dims[1].name,dims[2].name,dims[3].name,))\n",
    "# fill variables:\n",
    "ncid.variables['atl_mask'][0,0,:,:] = atl_mask\n",
    "# close:\n",
    "ncid.close()"
   ]
  },
  {
   "cell_type": "code",
   "execution_count": null,
   "id": "218d96e7-8612-40ab-a561-c58cad43936a",
   "metadata": {},
   "outputs": [],
   "source": [
    "Models"
   ]
  },
  {
   "cell_type": "code",
   "execution_count": null,
   "id": "2732b7e1-f8af-4293-a82e-983a6b3d752b",
   "metadata": {},
   "outputs": [],
   "source": []
  }
 ],
 "metadata": {
  "kernelspec": {
   "display_name": "working",
   "language": "python",
   "name": "working"
  },
  "language_info": {
   "codemirror_mode": {
    "name": "ipython",
    "version": 3
   },
   "file_extension": ".py",
   "mimetype": "text/x-python",
   "name": "python",
   "nbconvert_exporter": "python",
   "pygments_lexer": "ipython3",
   "version": "3.7.12"
  }
 },
 "nbformat": 4,
 "nbformat_minor": 5
}
